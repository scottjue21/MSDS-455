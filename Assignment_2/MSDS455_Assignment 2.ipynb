{
 "cells": [
  {
   "cell_type": "markdown",
   "metadata": {},
   "source": [
    "Children Age 6 to 17 Involved in Sports Activities: 1998-2020, by Poverty Status\n",
    "Data source link: https://www.census.gov/data/tables/time-series/demo/children/childs-day.html"
   ]
  },
  {
   "cell_type": "code",
   "execution_count": 1,
   "metadata": {},
   "outputs": [],
   "source": [
    "import pandas as pd\n",
    "import matplotlib.pyplot as plt\n",
    "import seaborn as sns"
   ]
  },
  {
   "cell_type": "code",
   "execution_count": 4,
   "metadata": {},
   "outputs": [],
   "source": [
    "# load data using pandas\n",
    "df = pd.read_excel(\"./Table1_subset.xlsx\")"
   ]
  },
  {
   "cell_type": "code",
   "execution_count": 5,
   "metadata": {},
   "outputs": [
    {
     "data": {
      "text/html": [
       "<div>\n",
       "<style scoped>\n",
       "    .dataframe tbody tr th:only-of-type {\n",
       "        vertical-align: middle;\n",
       "    }\n",
       "\n",
       "    .dataframe tbody tr th {\n",
       "        vertical-align: top;\n",
       "    }\n",
       "\n",
       "    .dataframe thead th {\n",
       "        text-align: right;\n",
       "    }\n",
       "</style>\n",
       "<table border=\"1\" class=\"dataframe\">\n",
       "  <thead>\n",
       "    <tr style=\"text-align: right;\">\n",
       "      <th></th>\n",
       "      <th>Year</th>\n",
       "      <th>Total</th>\n",
       "      <th>Percent</th>\n",
       "      <th>Poverty Status</th>\n",
       "    </tr>\n",
       "  </thead>\n",
       "  <tbody>\n",
       "    <tr>\n",
       "      <th>0</th>\n",
       "      <td>2020</td>\n",
       "      <td>8451</td>\n",
       "      <td>23.4</td>\n",
       "      <td>Below Poverty</td>\n",
       "    </tr>\n",
       "    <tr>\n",
       "      <th>1</th>\n",
       "      <td>2019</td>\n",
       "      <td>9215</td>\n",
       "      <td>23.9</td>\n",
       "      <td>Below Poverty</td>\n",
       "    </tr>\n",
       "    <tr>\n",
       "      <th>2</th>\n",
       "      <td>2018</td>\n",
       "      <td>9657</td>\n",
       "      <td>26.3</td>\n",
       "      <td>Below Poverty</td>\n",
       "    </tr>\n",
       "    <tr>\n",
       "      <th>3</th>\n",
       "      <td>2017</td>\n",
       "      <td>9648</td>\n",
       "      <td>22.4</td>\n",
       "      <td>Below Poverty</td>\n",
       "    </tr>\n",
       "    <tr>\n",
       "      <th>4</th>\n",
       "      <td>2016</td>\n",
       "      <td>10375</td>\n",
       "      <td>26.8</td>\n",
       "      <td>Below Poverty</td>\n",
       "    </tr>\n",
       "    <tr>\n",
       "      <th>5</th>\n",
       "      <td>2015</td>\n",
       "      <td>10943</td>\n",
       "      <td>27.1</td>\n",
       "      <td>Below Poverty</td>\n",
       "    </tr>\n",
       "    <tr>\n",
       "      <th>6</th>\n",
       "      <td>2014</td>\n",
       "      <td>11211</td>\n",
       "      <td>28.3</td>\n",
       "      <td>Below Poverty</td>\n",
       "    </tr>\n",
       "    <tr>\n",
       "      <th>7</th>\n",
       "      <td>2011</td>\n",
       "      <td>10099</td>\n",
       "      <td>22.5</td>\n",
       "      <td>Below Poverty</td>\n",
       "    </tr>\n",
       "    <tr>\n",
       "      <th>8</th>\n",
       "      <td>2009</td>\n",
       "      <td>9401</td>\n",
       "      <td>23.2</td>\n",
       "      <td>Below Poverty</td>\n",
       "    </tr>\n",
       "    <tr>\n",
       "      <th>9</th>\n",
       "      <td>2006</td>\n",
       "      <td>7807</td>\n",
       "      <td>26.9</td>\n",
       "      <td>Below Poverty</td>\n",
       "    </tr>\n",
       "  </tbody>\n",
       "</table>\n",
       "</div>"
      ],
      "text/plain": [
       "   Year  Total  Percent Poverty Status\n",
       "0  2020   8451     23.4  Below Poverty\n",
       "1  2019   9215     23.9  Below Poverty\n",
       "2  2018   9657     26.3  Below Poverty\n",
       "3  2017   9648     22.4  Below Poverty\n",
       "4  2016  10375     26.8  Below Poverty\n",
       "5  2015  10943     27.1  Below Poverty\n",
       "6  2014  11211     28.3  Below Poverty\n",
       "7  2011  10099     22.5  Below Poverty\n",
       "8  2009   9401     23.2  Below Poverty\n",
       "9  2006   7807     26.9  Below Poverty"
      ]
     },
     "execution_count": 5,
     "metadata": {},
     "output_type": "execute_result"
    }
   ],
   "source": [
    "# preview data to make sure it loaded correctly\n",
    "df.head(10)"
   ]
  },
  {
   "cell_type": "code",
   "execution_count": 21,
   "metadata": {},
   "outputs": [],
   "source": [
    "# dropping 2020 data due to COVID-19 impact and nonresponse bias per notes in data source\n",
    "# dropping 2019 data due to nonresponse bias per notes in data source\n",
    "df.drop(df[(df['Year'] == 2020) | (df['Year'] == 2019)].index, inplace = True)"
   ]
  },
  {
   "cell_type": "code",
   "execution_count": 22,
   "metadata": {},
   "outputs": [
    {
     "data": {
      "text/html": [
       "<div>\n",
       "<style scoped>\n",
       "    .dataframe tbody tr th:only-of-type {\n",
       "        vertical-align: middle;\n",
       "    }\n",
       "\n",
       "    .dataframe tbody tr th {\n",
       "        vertical-align: top;\n",
       "    }\n",
       "\n",
       "    .dataframe thead th {\n",
       "        text-align: right;\n",
       "    }\n",
       "</style>\n",
       "<table border=\"1\" class=\"dataframe\">\n",
       "  <thead>\n",
       "    <tr style=\"text-align: right;\">\n",
       "      <th></th>\n",
       "      <th>Year</th>\n",
       "      <th>Total</th>\n",
       "      <th>Percent</th>\n",
       "      <th>Poverty Status</th>\n",
       "    </tr>\n",
       "  </thead>\n",
       "  <tbody>\n",
       "    <tr>\n",
       "      <th>2</th>\n",
       "      <td>2018</td>\n",
       "      <td>9657</td>\n",
       "      <td>26.3</td>\n",
       "      <td>Below Poverty</td>\n",
       "    </tr>\n",
       "    <tr>\n",
       "      <th>3</th>\n",
       "      <td>2017</td>\n",
       "      <td>9648</td>\n",
       "      <td>22.4</td>\n",
       "      <td>Below Poverty</td>\n",
       "    </tr>\n",
       "    <tr>\n",
       "      <th>4</th>\n",
       "      <td>2016</td>\n",
       "      <td>10375</td>\n",
       "      <td>26.8</td>\n",
       "      <td>Below Poverty</td>\n",
       "    </tr>\n",
       "    <tr>\n",
       "      <th>5</th>\n",
       "      <td>2015</td>\n",
       "      <td>10943</td>\n",
       "      <td>27.1</td>\n",
       "      <td>Below Poverty</td>\n",
       "    </tr>\n",
       "    <tr>\n",
       "      <th>6</th>\n",
       "      <td>2014</td>\n",
       "      <td>11211</td>\n",
       "      <td>28.3</td>\n",
       "      <td>Below Poverty</td>\n",
       "    </tr>\n",
       "  </tbody>\n",
       "</table>\n",
       "</div>"
      ],
      "text/plain": [
       "   Year  Total  Percent Poverty Status\n",
       "2  2018   9657     26.3  Below Poverty\n",
       "3  2017   9648     22.4  Below Poverty\n",
       "4  2016  10375     26.8  Below Poverty\n",
       "5  2015  10943     27.1  Below Poverty\n",
       "6  2014  11211     28.3  Below Poverty"
      ]
     },
     "execution_count": 22,
     "metadata": {},
     "output_type": "execute_result"
    }
   ],
   "source": [
    "df.head()"
   ]
  },
  {
   "cell_type": "code",
   "execution_count": 23,
   "metadata": {},
   "outputs": [
    {
     "data": {
      "image/png": "[encoded data removed]",
      "text/plain": [
       "<Figure size 432x288 with 1 Axes>"
      ]
     },
     "metadata": {
      "needs_background": "light"
     },
     "output_type": "display_data"
    }
   ],
   "source": [
    "sns.barplot(x=\"Year\", y=\"Percent\", hue=\"Poverty Status\", palette=\"Blues\", data=df)\n",
    "\n",
    "plt.tight_layout()\n",
    "plt.box(False)\n",
    "plt.ylabel(\"% Involved in Sports\")\n",
    "plt.legend(bbox_to_anchor=(1.05, 1), loc='upper left', borderaxespad=0)\n",
    "plt.gcf()\n",
    "plt.savefig('child_involed_sports_by_poverty.png', bbox_inches='tight')\n",
    "\n",
    "plt.show()"
   ]
  }
 ],
 "metadata": {
  "kernelspec": {
   "display_name": "Python 3",
   "language": "python",
   "name": "python3"
  },
  "language_info": {
   "codemirror_mode": {
    "name": "ipython",
    "version": 3
   },
   "file_extension": ".py",
   "mimetype": "text/x-python",
   "name": "python",
   "nbconvert_exporter": "python",
   "pygments_lexer": "ipython3",
   "version": "3.8.8"
  }
 },
 "nbformat": 4,
 "nbformat_minor": 2
}
